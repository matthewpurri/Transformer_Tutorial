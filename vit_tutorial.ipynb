{
 "cells": [
  {
   "cell_type": "code",
   "execution_count": 66,
   "metadata": {},
   "outputs": [],
   "source": [
    "import os\n",
    "\n",
    "import numpy as np\n",
    "from tqdm import tqdm\n",
    "import matplotlib.pyplot as plt\n",
    "\n",
    "from einops import repeat\n",
    "from einops.layers.torch import Rearrange\n",
    "\n",
    "import torch\n",
    "import torchvision\n",
    "import torch.nn as nn\n",
    "import torch.optim as optim\n",
    "from torch.utils.data import DataLoader\n",
    "from torchvision import datasets, transforms\n"
   ]
  },
  {
   "cell_type": "code",
   "execution_count": 2,
   "metadata": {},
   "outputs": [],
   "source": [
    "os.environ['CUDA_VISIBLE_DEVICES'] = '0'"
   ]
  },
  {
   "cell_type": "markdown",
   "metadata": {},
   "source": [
    "# Dataset"
   ]
  },
  {
   "cell_type": "code",
   "execution_count": 3,
   "metadata": {},
   "outputs": [
    {
     "name": "stdout",
     "output_type": "stream",
     "text": [
      "Files already downloaded and verified\n",
      "Files already downloaded and verified\n"
     ]
    }
   ],
   "source": [
    "dset_root = '/data4/datasets/'  # Choose a place on your machine to store data.\n",
    "\n",
    "train_dataset = datasets.CIFAR10(root=dset_root, train=True, download=True, transform=transforms.Compose([transforms.ToTensor()]))\n",
    "test_dataset = datasets.CIFAR10(root=dset_root, train=False, download=True, transform=transforms.Compose([transforms.ToTensor()]))"
   ]
  },
  {
   "cell_type": "markdown",
   "metadata": {},
   "source": [
    "## Visualize dataset"
   ]
  },
  {
   "cell_type": "code",
   "execution_count": 4,
   "metadata": {},
   "outputs": [
    {
     "name": "stdout",
     "output_type": "stream",
     "text": [
      "<built-in method size of Tensor object at 0x7faecd37c180>\n"
     ]
    }
   ],
   "source": [
    "example_index = 500\n",
    "image, label = train_dataset.__getitem__(example_index)\n",
    "\n",
    "print(image.size)"
   ]
  },
  {
   "cell_type": "code",
   "execution_count": 5,
   "metadata": {},
   "outputs": [
    {
     "data": {
      "text/plain": [
       "Text(0.5, 1.0, '5')"
      ]
     },
     "execution_count": 5,
     "metadata": {},
     "output_type": "execute_result"
    },
    {
     "data": {
      "image/png": "[encoded data removed]",
      "text/plain": [
       "<Figure size 576x576 with 1 Axes>"
      ]
     },
     "metadata": {
      "needs_background": "light"
     },
     "output_type": "display_data"
    }
   ],
   "source": [
    "image = np.asarray(image)\n",
    "_, ax = plt.subplots(1,1,figsize=(8,8))\n",
    "ax.imshow(image.transpose(1,2,0))\n",
    "ax.set_title(label)"
   ]
  },
  {
   "cell_type": "markdown",
   "metadata": {},
   "source": [
    "# Model"
   ]
  },
  {
   "cell_type": "markdown",
   "metadata": {},
   "source": [
    "## Building the ViT model"
   ]
  },
  {
   "cell_type": "code",
   "execution_count": 85,
   "metadata": {},
   "outputs": [],
   "source": [
    "# Code inspired by: https://github.com/lucidrains/vit-pytorch/blob/89e1996c8bde31c6aeda33dbdde2aee72697a493/vit_pytorch/vit.py#L94\n",
    "\n",
    "class ViT(nn.Module):\n",
    "    def __init__(self, n_classes, image_size, patch_size, feature_dim, n_heads, n_layers, n_channels=3):\n",
    "        super().__init__()\n",
    "\n",
    "        # Initialize private variables.\n",
    "        self.n_heads = n_heads\n",
    "        self.n_layers = n_layers\n",
    "        self.n_classes = n_classes\n",
    "        self.image_size = image_size\n",
    "        self.patch_size = patch_size\n",
    "        self.feature_dim = feature_dim\n",
    "\n",
    "        # Make sure that image size is viable.\n",
    "        n_patches = self._check_image_dimensions()\n",
    "\n",
    "        # Build network.\n",
    "        self.encoder, self.cls_layer = self._build_model()\n",
    "\n",
    "        # Build image to patches to token function.\n",
    "        patch_height, patch_width = patch_size\n",
    "        patch_dim = n_channels * patch_height * patch_width\n",
    "        self.tokenizer = nn.Sequential(\n",
    "            Rearrange('b c (h p1) (w p2) -> b (h w) (p1 p2 c)', p1 = patch_height, p2 = patch_width),\n",
    "            nn.Linear(patch_dim, feature_dim),\n",
    "        )\n",
    "\n",
    "        # Create special classification token.\n",
    "        self.cls_token = nn.Parameter(torch.randn(1, 1, feature_dim))\n",
    "\n",
    "        # Generate postitional embedding.\n",
    "        ## Use learnable positional embedding, simpler but less efficient than sinusoidal pos embeddings.\n",
    "        self.pos_embedding = nn.Parameter(torch.randn(1, n_patches + 1, feature_dim))\n",
    "\n",
    "    def _check_image_dimensions(self):\n",
    "        image_height, image_width = self.image_size\n",
    "        patch_height, patch_width = self.patch_size\n",
    "        assert image_height % patch_height == 0 and image_width % patch_width == 0, 'Image dimensions must be divisible by the patch size.'\n",
    "\n",
    "        n_patches = (image_height // patch_height) * (image_width // patch_width)\n",
    "\n",
    "        return n_patches\n",
    "\n",
    "    def _build_model(self):\n",
    "        # Create Transformer network.\n",
    "\n",
    "        ## Build base encoding layer.\n",
    "        enc_layer = nn.TransformerEncoderLayer(d_model=self.feature_dim, nhead=self.n_heads, dim_feedforward=self.feature_dim, batch_first=True)\n",
    "        \n",
    "        ## Wrap/repeat encoding layers into Transformer Encoder.\n",
    "        encoder = nn.TransformerEncoder(enc_layer, num_layers=self.n_layers, norm=nn.LayerNorm(self.feature_dim))\n",
    "        # encoder = nn.TransformerEncoder(enc_layer, num_layers=self.n_layers)\n",
    "\n",
    "        # Create classification network.\n",
    "        cls_layer = nn.Linear(self.feature_dim, self.n_classes)\n",
    "\n",
    "        return encoder, cls_layer\n",
    "\n",
    "    def forward(self, image):\n",
    "        # Convert image to tokens\n",
    "        tokens = self.tokenizer(image)\n",
    "        b, n, f = tokens.shape  # b = batch_size, n = number of tokens, f = dimension of token\n",
    "\n",
    "        # Add special token to sequence.\n",
    "        ## Note: Need to copy special token based on the number of examples in the batch.\n",
    "        cls_tokens = repeat(self.cls_token, '1 1 d -> b 1 d', b = b)\n",
    "\n",
    "        ## Concatenate special token to beginning of input sequence \n",
    "        ## Adding it to the beginning or end doesn't matter, you just have to be consistent.\n",
    "        tokens = torch.cat([cls_tokens, tokens], dim=1)  # shape [b, n+1, f]\n",
    "\n",
    "        # Add positional embedding to tokens\n",
    "        tokens = tokens + self.pos_embedding\n",
    "\n",
    "        # Pass tokens into model.\n",
    "        output = self.encoder(tokens)\n",
    "\n",
    "        # Get the output from the special token position.\n",
    "        cls_output = output[:, 0]\n",
    "\n",
    "        # Pass cls token output through classification network.\n",
    "        prediction = self.cls_layer(cls_output)\n",
    "\n",
    "        return prediction\n"
   ]
  },
  {
   "cell_type": "code",
   "execution_count": 72,
   "metadata": {},
   "outputs": [],
   "source": [
    "# Note: This code is for debugging purposes but might be helpful for students.\n",
    "# It can be ignored\n",
    "class Test_Model(nn.Module):\n",
    "    def __init__(self, n_classes, image_size, patch_size, feature_dim, n_heads, n_layers, n_channels=3):\n",
    "        super().__init__()\n",
    "\n",
    "        # Initialize private variables.\n",
    "        self.n_heads = n_heads\n",
    "        self.n_layers = n_layers\n",
    "        self.n_classes = n_classes\n",
    "        self.image_size = image_size\n",
    "        self.patch_size = patch_size\n",
    "        self.feature_dim = feature_dim\n",
    "\n",
    "        self.network = self._build_model()\n",
    "\n",
    "    def _build_model(self):\n",
    "        network = torchvision.models.resnet18()\n",
    "        network.fc = nn.Linear(512, self.n_classes)\n",
    "\n",
    "        return network\n",
    "\n",
    "    def forward(self, image):\n",
    "        output = self.network(image)\n",
    "        return output"
   ]
  },
  {
   "cell_type": "code",
   "execution_count": 7,
   "metadata": {},
   "outputs": [
    {
     "name": "stdout",
     "output_type": "stream",
     "text": [
      "torch.Size([2, 10])\n"
     ]
    }
   ],
   "source": [
    "# Test network\n",
    "model = ViT(n_classes=10, image_size=[32, 32], patch_size=[8,8], feature_dim=256, n_heads=4, n_layers=2)\n",
    "\n",
    "## Create test input.\n",
    "batch_size = 2\n",
    "n_channels = 3\n",
    "height = 32\n",
    "width = 32\n",
    "example_input = torch.zeros([batch_size, n_channels, height, width])\n",
    "\n",
    "## Test model can handle example input.\n",
    "output = model(example_input)\n",
    "print(output.shape)"
   ]
  },
  {
   "cell_type": "markdown",
   "metadata": {},
   "source": [
    "# Train Model"
   ]
  },
  {
   "cell_type": "markdown",
   "metadata": {},
   "source": [
    "## Create training pipeline."
   ]
  },
  {
   "cell_type": "code",
   "execution_count": 92,
   "metadata": {},
   "outputs": [],
   "source": [
    "# Training hyperparameters.\n",
    "batch_size = 64  # Number of images combined and passed into model for each iteration.\n",
    "n_workers = 10  # Number of CPUs running this job. (may have to lower this for your machine)\n",
    "learn_rate = 3e-3\n",
    "feature_dim = 64\n",
    "n_heads = 4\n",
    "n_layers = 2\n",
    "n_epochs = 10\n",
    "gamma = 0.8\n",
    "\n",
    "# Wrap datasets in data loader's (makes data loading parallelizable).\n",
    "train_loader = DataLoader(train_dataset, batch_size=batch_size, num_workers=n_workers, shuffle=True, pin_memory=True)\n",
    "test_loader = DataLoader(test_dataset, batch_size=batch_size, num_workers=n_workers, shuffle=False, pin_memory=True)\n",
    "\n",
    "# Build model.\n",
    "n_classes = len(train_dataset.classes)\n",
    "patch_size = [8, 8]\n",
    "model = ViT(n_classes, [32, 32], patch_size, feature_dim, n_heads, n_layers)\n",
    "# model = Test_Model(n_classes, [32, 32], patch_size, feature_dim, n_heads, n_layers)\n",
    "\n",
    "## Get model training device type.\n",
    "if torch.cuda.is_available():\n",
    "    device = 'cuda'\n",
    "else:\n",
    "    device = 'cpu'\n",
    "\n",
    "## Load model weights into GPU (if available).\n",
    "model = model.to(device)\n",
    "\n",
    "# Get optimization function\n",
    "optimizer = optim.Adam(model.parameters(), learn_rate)\n",
    "scheduler = optim.lr_scheduler.StepLR(optimizer, step_size=1, gamma=gamma)"
   ]
  },
  {
   "cell_type": "markdown",
   "metadata": {},
   "source": [
    "### Create Training Loop"
   ]
  },
  {
   "cell_type": "code",
   "execution_count": 80,
   "metadata": {},
   "outputs": [],
   "source": [
    "def train_loop(model, device, train_loader, optimizer):\n",
    "    model.train()\n",
    "    train_loss, train_acc, count = [], 0, 0\n",
    "    for image, target in tqdm(train_loader, desc='Train loop'):\n",
    "        # Load image and labels into GPU memory (if available).\n",
    "        image = image.to(device)\n",
    "        target = target.to(device)\n",
    "\n",
    "        # Pass data into model.\n",
    "        optimizer.zero_grad()\n",
    "        output = model(image)\n",
    "\n",
    "        # Compute loss.\n",
    "        loss = nn.functional.cross_entropy(output, target)\n",
    "\n",
    "        # Compute accuracy.\n",
    "        pred = output.argmax(dim=1, keepdim=True)\n",
    "        train_acc += (target.view_as(pred) == pred).sum().item()\n",
    "        count += image.shape[0]\n",
    "\n",
    "        # Update network weights.\n",
    "        loss.backward()\n",
    "        optimizer.step()\n",
    "\n",
    "        # Record train loss.\n",
    "        train_loss.append(loss.item() / image.shape[0])  # Adjust loss by batch size\n",
    "    \n",
    "    # Compute overall train acc.\n",
    "    train_acc /= count\n",
    "\n",
    "    return train_loss, train_acc\n"
   ]
  },
  {
   "cell_type": "markdown",
   "metadata": {},
   "source": [
    "### Create Test Loop"
   ]
  },
  {
   "cell_type": "code",
   "execution_count": 81,
   "metadata": {},
   "outputs": [],
   "source": [
    "def test_loop(model, device, test_loader):\n",
    "    model.eval()\n",
    "\n",
    "    test_loss, test_acc, count = [], 0, 0\n",
    "    with torch.no_grad():\n",
    "        for image, target in tqdm(test_loader, desc='Test loop'):\n",
    "            # Load image and labels into GPU memory (if available).\n",
    "            image = image.to(device)\n",
    "            target = target.to(device)\n",
    "\n",
    "            # Pass data into model.\n",
    "            output = model(image)\n",
    "\n",
    "            # Compute loss.\n",
    "            loss = nn.functional.cross_entropy(output, target)\n",
    "        \n",
    "            # Record train loss.\n",
    "            test_loss.append(loss.item() / image.shape[0])  # Adjust loss by batch size\n",
    "\n",
    "            # Compute accuracy.\n",
    "            pred = output.argmax(dim=1, keepdim=True)\n",
    "            test_acc += (target.view_as(pred) == pred).sum().item()\n",
    "            count += image.shape[0]\n",
    "    \n",
    "    # Compute overall test acc.\n",
    "    test_acc /= count\n",
    "\n",
    "    return test_loss, test_acc"
   ]
  },
  {
   "cell_type": "markdown",
   "metadata": {},
   "source": [
    "## Main Training Loop"
   ]
  },
  {
   "cell_type": "code",
   "execution_count": 93,
   "metadata": {},
   "outputs": [
    {
     "name": "stdout",
     "output_type": "stream",
     "text": [
      "Epoch: [1/10]\n"
     ]
    },
    {
     "name": "stderr",
     "output_type": "stream",
     "text": [
      "Train loop: 100%|██████████| 782/782 [00:12<00:00, 63.31it/s]\n",
      "Test loop: 100%|██████████| 157/157 [00:01<00:00, 128.11it/s]\n"
     ]
    },
    {
     "name": "stdout",
     "output_type": "stream",
     "text": [
      "Avg loss | Train: 0.02936164172523467 | Test: 0.026847159051021953 |\n",
      "Avg ACC  | Train: 31.5% | Test: 39.489999999999995% |\n",
      "Epoch: [2/10]\n"
     ]
    },
    {
     "name": "stderr",
     "output_type": "stream",
     "text": [
      "Train loop: 100%|██████████| 782/782 [00:12<00:00, 63.17it/s]\n",
      "Test loop: 100%|██████████| 157/157 [00:01<00:00, 130.73it/s]\n"
     ]
    },
    {
     "name": "stdout",
     "output_type": "stream",
     "text": [
      "Avg loss | Train: 0.026184259289804168 | Test: 0.025731337855860684 |\n",
      "Avg ACC  | Train: 39.488% | Test: 42.17% |\n",
      "Epoch: [3/10]\n"
     ]
    },
    {
     "name": "stderr",
     "output_type": "stream",
     "text": [
      "Train loop: 100%|██████████| 782/782 [00:12<00:00, 63.02it/s]\n",
      "Test loop: 100%|██████████| 157/157 [00:01<00:00, 125.31it/s]\n"
     ]
    },
    {
     "name": "stdout",
     "output_type": "stream",
     "text": [
      "Avg loss | Train: 0.024725555139772423 | Test: 0.02432279202161701 |\n",
      "Avg ACC  | Train: 43.082% | Test: 45.440000000000005% |\n",
      "Epoch: [4/10]\n"
     ]
    },
    {
     "name": "stderr",
     "output_type": "stream",
     "text": [
      "Train loop: 100%|██████████| 782/782 [00:12<00:00, 63.18it/s]\n",
      "Test loop: 100%|██████████| 157/157 [00:01<00:00, 128.09it/s]\n"
     ]
    },
    {
     "name": "stdout",
     "output_type": "stream",
     "text": [
      "Avg loss | Train: 0.0238385307209571 | Test: 0.02303040964872974 |\n",
      "Avg ACC  | Train: 45.218% | Test: 47.699999999999996% |\n",
      "Epoch: [5/10]\n"
     ]
    },
    {
     "name": "stderr",
     "output_type": "stream",
     "text": [
      "Train loop: 100%|██████████| 782/782 [00:12<00:00, 63.60it/s]\n",
      "Test loop: 100%|██████████| 157/157 [00:01<00:00, 130.03it/s]\n"
     ]
    },
    {
     "name": "stdout",
     "output_type": "stream",
     "text": [
      "Avg loss | Train: 0.023073158336474615 | Test: 0.022615000759814954 |\n",
      "Avg ACC  | Train: 47.022000000000006% | Test: 49.16% |\n",
      "Epoch: [6/10]\n"
     ]
    },
    {
     "name": "stderr",
     "output_type": "stream",
     "text": [
      "Train loop: 100%|██████████| 782/782 [00:12<00:00, 63.36it/s]\n",
      "Test loop: 100%|██████████| 157/157 [00:01<00:00, 128.73it/s]\n"
     ]
    },
    {
     "name": "stdout",
     "output_type": "stream",
     "text": [
      "Avg loss | Train: 0.022359775312606942 | Test: 0.022349105708917995 |\n",
      "Avg ACC  | Train: 48.333999999999996% | Test: 49.61% |\n",
      "Epoch: [7/10]\n"
     ]
    },
    {
     "name": "stderr",
     "output_type": "stream",
     "text": [
      "Train loop: 100%|██████████| 782/782 [00:12<00:00, 63.87it/s]\n",
      "Test loop: 100%|██████████| 157/157 [00:01<00:00, 128.82it/s]\n"
     ]
    },
    {
     "name": "stdout",
     "output_type": "stream",
     "text": [
      "Avg loss | Train: 0.02188915937967465 | Test: 0.021994906210690546 |\n",
      "Avg ACC  | Train: 49.932% | Test: 50.839999999999996% |\n",
      "Epoch: [8/10]\n"
     ]
    },
    {
     "name": "stderr",
     "output_type": "stream",
     "text": [
      "Train loop: 100%|██████████| 782/782 [00:12<00:00, 64.02it/s]\n",
      "Test loop: 100%|██████████| 157/157 [00:01<00:00, 129.63it/s]\n"
     ]
    },
    {
     "name": "stdout",
     "output_type": "stream",
     "text": [
      "Avg loss | Train: 0.02146658454152286 | Test: 0.02144539623171281 |\n",
      "Avg ACC  | Train: 50.52799999999999% | Test: 51.43% |\n",
      "Epoch: [9/10]\n"
     ]
    },
    {
     "name": "stderr",
     "output_type": "stream",
     "text": [
      "Train loop: 100%|██████████| 782/782 [00:12<00:00, 63.05it/s]\n",
      "Test loop: 100%|██████████| 157/157 [00:01<00:00, 123.22it/s]\n"
     ]
    },
    {
     "name": "stdout",
     "output_type": "stream",
     "text": [
      "Avg loss | Train: 0.02106130456842501 | Test: 0.021167859909640756 |\n",
      "Avg ACC  | Train: 51.514% | Test: 52.43% |\n",
      "Epoch: [10/10]\n"
     ]
    },
    {
     "name": "stderr",
     "output_type": "stream",
     "text": [
      "Train loop: 100%|██████████| 782/782 [00:12<00:00, 62.92it/s]\n",
      "Test loop: 100%|██████████| 157/157 [00:01<00:00, 130.96it/s]"
     ]
    },
    {
     "name": "stdout",
     "output_type": "stream",
     "text": [
      "Avg loss | Train: 0.02076044212669477 | Test: 0.02082688668683456 |\n",
      "Avg ACC  | Train: 52.459999999999994% | Test: 52.93% |\n"
     ]
    },
    {
     "name": "stderr",
     "output_type": "stream",
     "text": [
      "\n"
     ]
    }
   ],
   "source": [
    "iter_train_loss, epoch_train_acc = [], []\n",
    "iter_test_loss, epoch_test_acc = [], []\n",
    "for epoch in range(n_epochs):\n",
    "    print(f'Epoch: [{epoch+1}/{n_epochs}]')\n",
    "    train_loss, train_acc = train_loop(model, device, train_loader, optimizer)\n",
    "    test_loss, test_acc = test_loop(model, device, test_loader)\n",
    "    \n",
    "    # Update LR of the optimizer with LR scheduler.\n",
    "    scheduler.step()\n",
    "\n",
    "    print(f'Avg loss | Train: {np.mean(train_loss)} | Test: {np.mean(test_loss)} |')\n",
    "    print(f'Avg ACC  | Train: {train_acc*100}% | Test: {test_acc*100}% |')\n",
    "\n",
    "    iter_train_loss.extend(train_loss)\n",
    "    iter_test_loss.extend(test_loss)\n",
    "    epoch_train_acc.append(train_acc)\n",
    "    epoch_test_acc.append(test_acc)\n"
   ]
  },
  {
   "cell_type": "markdown",
   "metadata": {},
   "source": [
    "## Visualize model training"
   ]
  },
  {
   "cell_type": "code",
   "execution_count": 94,
   "metadata": {},
   "outputs": [
    {
     "data": {
      "image/png": "[encoded data removed]",
      "text/plain": [
       "<Figure size 432x288 with 1 Axes>"
      ]
     },
     "metadata": {
      "needs_background": "light"
     },
     "output_type": "display_data"
    }
   ],
   "source": [
    "plt.plot(range(len(iter_train_loss)), iter_train_loss)\n",
    "plt.show()"
   ]
  },
  {
   "cell_type": "code",
   "execution_count": 95,
   "metadata": {},
   "outputs": [
    {
     "data": {
      "image/png": "[encoded data removed]",
      "text/plain": [
       "<Figure size 432x288 with 1 Axes>"
      ]
     },
     "metadata": {
      "needs_background": "light"
     },
     "output_type": "display_data"
    }
   ],
   "source": [
    "plt.plot(range(len(iter_test_loss)), iter_test_loss)\n",
    "plt.show()"
   ]
  },
  {
   "cell_type": "code",
   "execution_count": 99,
   "metadata": {},
   "outputs": [
    {
     "data": {
      "image/png": "[encoded data removed]",
      "text/plain": [
       "<Figure size 432x288 with 1 Axes>"
      ]
     },
     "metadata": {
      "needs_background": "light"
     },
     "output_type": "display_data"
    }
   ],
   "source": [
    "plt.plot(range(n_epochs), epoch_train_acc, '-b')\n",
    "plt.plot(range(n_epochs), epoch_test_acc, '-r')\n",
    "plt.ylim([0,1])\n",
    "plt.ylabel('Accuracy')\n",
    "plt.xlabel('Epoch')\n",
    "plt.show()"
   ]
  },
  {
   "cell_type": "code",
   "execution_count": null,
   "metadata": {},
   "outputs": [],
   "source": [
    "# Homework for 0 credit: Play with the hyperparameters and beat the score here, post it on the Github page!"
   ]
  }
 ],
 "metadata": {
  "kernelspec": {
   "display_name": "Python 3.8.13 ('ru_watch')",
   "language": "python",
   "name": "python3"
  },
  "language_info": {
   "codemirror_mode": {
    "name": "ipython",
    "version": 3
   },
   "file_extension": ".py",
   "mimetype": "text/x-python",
   "name": "python",
   "nbconvert_exporter": "python",
   "pygments_lexer": "ipython3",
   "version": "3.8.13"
  },
  "orig_nbformat": 4,
  "vscode": {
   "interpreter": {
    "hash": "57a721a8ae62ec7f77e7f95293cca5f27b03e088e8c2a482a2653e8f962d2d01"
   }
  }
 },
 "nbformat": 4,
 "nbformat_minor": 2
}
